{
 "cells": [
  {
   "cell_type": "code",
   "execution_count": 1,
   "id": "initial_id",
   "metadata": {
    "collapsed": true,
    "ExecuteTime": {
     "end_time": "2023-10-24T11:43:44.701132300Z",
     "start_time": "2023-10-24T11:43:43.670702Z"
    }
   },
   "outputs": [
    {
     "name": "stderr",
     "output_type": "stream",
     "text": [
      "C:\\Users\\Sayak\\AppData\\Local\\Programs\\Python\\Python311\\Lib\\site-packages\\rpy2\\robjects\\packages.py:367: UserWarning: The symbol 'quartz' is not in this R namespace/package.\n",
      "  warnings.warn(\n"
     ]
    }
   ],
   "source": [
    "# Import Necessary Packages in Python\n",
    "import os\n",
    "import rpy2\n",
    "import numpy as np\n",
    "import pandas as pd\n",
    "import plotly.graph_objs as go\n",
    "\n",
    "from numpy import ndarray\n",
    "from pandas import Series, DataFrame\n",
    "from plotly.graph_objs import Figure\n",
    "\n",
    "# Activate R Environment in Jupyter\n",
    "%load_ext rpy2.ipython"
   ]
  },
  {
   "cell_type": "code",
   "execution_count": 2,
   "outputs": [
    {
     "name": "stdout",
     "output_type": "stream",
     "text": [
      "── Attaching core tidyverse packages ──────────────────────── tidyverse 2.0.0 ──\n",
      "✔ dplyr     1.1.1     ✔ readr     2.1.4\n",
      "✔ forcats   1.0.0     ✔ stringr   1.5.0\n",
      "✔ ggplot2   3.4.2     ✔ tibble    3.2.1\n",
      "✔ lubridate 1.9.2     ✔ tidyr     1.3.0\n",
      "✔ purrr     1.0.1     \n",
      "── Conflicts ────────────────────────────────────────── tidyverse_conflicts() ──\n",
      "✖ dplyr::filter() masks stats::filter()\n",
      "✖ dplyr::lag()    masks stats::lag()\n",
      "ℹ Use the conflicted package (<http://conflicted.r-lib.org/>) to force all conflicts to become errors\n"
     ]
    },
    {
     "name": "stderr",
     "output_type": "stream",
     "text": [
      "R[write to console]: Loading required package: BiocGenerics\n",
      "\n",
      "R[write to console]: \n",
      "Attaching package: 'BiocGenerics'\n",
      "\n",
      "\n",
      "R[write to console]: The following objects are masked from 'package:lubridate':\n",
      "\n",
      "    intersect, setdiff, union\n",
      "\n",
      "\n",
      "R[write to console]: The following objects are masked from 'package:dplyr':\n",
      "\n",
      "    combine, intersect, setdiff, union\n",
      "\n",
      "\n",
      "R[write to console]: The following objects are masked from 'package:stats':\n",
      "\n",
      "    IQR, mad, sd, var, xtabs\n",
      "\n",
      "\n",
      "R[write to console]: The following objects are masked from 'package:base':\n",
      "\n",
      "    anyDuplicated, aperm, append, as.data.frame, basename, cbind,\n",
      "    colnames, dirname, do.call, duplicated, eval, evalq, Filter, Find,\n",
      "    get, grep, grepl, intersect, is.unsorted, lapply, Map, mapply,\n",
      "    match, mget, order, paste, pmax, pmax.int, pmin, pmin.int,\n",
      "    Position, rank, rbind, Reduce, rownames, sapply, setdiff, sort,\n",
      "    table, tapply, union, unique, unsplit, which.max, which.min\n",
      "\n",
      "\n",
      "R[write to console]: Loading required package: GenomicRanges\n",
      "\n",
      "R[write to console]: Loading required package: stats4\n",
      "\n",
      "R[write to console]: Loading required package: S4Vectors\n",
      "\n",
      "R[write to console]: \n",
      "Attaching package: 'S4Vectors'\n",
      "\n",
      "\n",
      "R[write to console]: The following objects are masked from 'package:lubridate':\n",
      "\n",
      "    second, second<-\n",
      "\n",
      "\n",
      "R[write to console]: The following objects are masked from 'package:dplyr':\n",
      "\n",
      "    first, rename\n",
      "\n",
      "\n",
      "R[write to console]: The following object is masked from 'package:tidyr':\n",
      "\n",
      "    expand\n",
      "\n",
      "\n",
      "R[write to console]: The following objects are masked from 'package:base':\n",
      "\n",
      "    expand.grid, I, unname\n",
      "\n",
      "\n",
      "R[write to console]: Loading required package: IRanges\n",
      "\n",
      "R[write to console]: \n",
      "Attaching package: 'IRanges'\n",
      "\n",
      "\n",
      "R[write to console]: The following object is masked from 'package:lubridate':\n",
      "\n",
      "    %within%\n",
      "\n",
      "\n",
      "R[write to console]: The following objects are masked from 'package:dplyr':\n",
      "\n",
      "    collapse, desc, slice\n",
      "\n",
      "\n",
      "R[write to console]: The following object is masked from 'package:purrr':\n",
      "\n",
      "    reduce\n",
      "\n",
      "\n",
      "R[write to console]: The following object is masked from 'package:grDevices':\n",
      "\n",
      "    windows\n",
      "\n",
      "\n",
      "R[write to console]: Loading required package: GenomeInfoDb\n",
      "\n",
      "R[write to console]: Loading required package: GenomicFeatures\n",
      "\n",
      "R[write to console]: Loading required package: AnnotationDbi\n",
      "\n",
      "R[write to console]: Loading required package: Biobase\n",
      "\n",
      "R[write to console]: Welcome to Bioconductor\n",
      "\n",
      "    Vignettes contain introductory material; view with\n",
      "    'browseVignettes()'. To cite Bioconductor, see\n",
      "    'citation(\"Biobase\")', and for packages 'citation(\"pkgname\")'.\n",
      "\n",
      "\n",
      "R[write to console]: \n",
      "Attaching package: 'AnnotationDbi'\n",
      "\n",
      "\n",
      "R[write to console]: The following object is masked from 'package:dplyr':\n",
      "\n",
      "    select\n",
      "\n",
      "\n",
      "R[write to console]: Loading required package: AnnotationFilter\n",
      "\n",
      "R[write to console]: \n",
      "Attaching package: 'ensembldb'\n",
      "\n",
      "\n",
      "R[write to console]: The following object is masked from 'package:dplyr':\n",
      "\n",
      "    filter\n",
      "\n",
      "\n",
      "R[write to console]: The following object is masked from 'package:stats':\n",
      "\n",
      "    filter\n",
      "\n",
      "\n"
     ]
    },
    {
     "data": {
      "text/plain": "<rpy2.robjects.vectors.StrVector object at 0x000001BA7C3158D0> [16]\nR classes: ('character',)\n['EnsDb.Hs..., 'ensembldb', 'Annotati..., 'GenomicF..., ..., 'utils', 'datasets', 'methods', 'base']",
      "text/html": "\n        <span>StrVector with 31 elements.</span>\n        <table>\n        <tbody>\n          <tr>\n          \n            <td>\n            'EnsDb.Hs...\n            </td>\n          \n            <td>\n            'ensembldb'\n            </td>\n          \n            <td>\n            'Annotati...\n            </td>\n          \n            <td>\n            ...\n            </td>\n          \n            <td>\n            'datasets'\n            </td>\n          \n            <td>\n            'methods'\n            </td>\n          \n            <td>\n            'base'\n            </td>\n          \n          </tr>\n        </tbody>\n        </table>\n        "
     },
     "execution_count": 2,
     "metadata": {},
     "output_type": "execute_result"
    }
   ],
   "source": [
    "# Import Necessary Packages in R\n",
    "%R library(tidyverse)  # R packages for data science\n",
    "%R library(tximport)  # Package to calculate transcript-level estimates\n",
    "%R library(ensembldb)  # Utilities to create and use Ensembl-based annotation databases\n",
    "%R library(EnsDb.Hsapiens.v86)  # Ensembl based annotation package"
   ],
   "metadata": {
    "collapsed": false,
    "ExecuteTime": {
     "end_time": "2023-10-24T11:43:53.120665600Z",
     "start_time": "2023-10-24T11:43:44.690470800Z"
    }
   },
   "id": "89bd324071e2cc4f"
  },
  {
   "cell_type": "code",
   "execution_count": 3,
   "outputs": [],
   "source": [
    "# Define file paths to avoid repetitive typing and ensure consistency\n",
    "aligned_data_path = '..//Aligned-Data//'\n",
    "figure_path = '..//Figures//'\n",
    "processed_data_path = '..//Processed-Data//'"
   ],
   "metadata": {
    "collapsed": false,
    "ExecuteTime": {
     "end_time": "2023-10-24T11:43:53.120665600Z",
     "start_time": "2023-10-24T11:43:53.104374900Z"
    }
   },
   "id": "693b84e084f929eb"
  },
  {
   "cell_type": "code",
   "execution_count": 4,
   "outputs": [
    {
     "data": {
      "text/plain": "['D:\\\\Bioinformatics\\\\Sameek-Sen-Lab\\\\Aligned-Data\\\\S1\\\\abundance.tsv',\n 'D:\\\\Bioinformatics\\\\Sameek-Sen-Lab\\\\Aligned-Data\\\\S10\\\\abundance.tsv',\n 'D:\\\\Bioinformatics\\\\Sameek-Sen-Lab\\\\Aligned-Data\\\\S11\\\\abundance.tsv',\n 'D:\\\\Bioinformatics\\\\Sameek-Sen-Lab\\\\Aligned-Data\\\\S114\\\\abundance.tsv',\n 'D:\\\\Bioinformatics\\\\Sameek-Sen-Lab\\\\Aligned-Data\\\\S12\\\\abundance.tsv',\n 'D:\\\\Bioinformatics\\\\Sameek-Sen-Lab\\\\Aligned-Data\\\\S13\\\\abundance.tsv',\n 'D:\\\\Bioinformatics\\\\Sameek-Sen-Lab\\\\Aligned-Data\\\\S14\\\\abundance.tsv',\n 'D:\\\\Bioinformatics\\\\Sameek-Sen-Lab\\\\Aligned-Data\\\\S15\\\\abundance.tsv',\n 'D:\\\\Bioinformatics\\\\Sameek-Sen-Lab\\\\Aligned-Data\\\\S16\\\\abundance.tsv',\n 'D:\\\\Bioinformatics\\\\Sameek-Sen-Lab\\\\Aligned-Data\\\\S17\\\\abundance.tsv',\n 'D:\\\\Bioinformatics\\\\Sameek-Sen-Lab\\\\Aligned-Data\\\\S2\\\\abundance.tsv',\n 'D:\\\\Bioinformatics\\\\Sameek-Sen-Lab\\\\Aligned-Data\\\\S3\\\\abundance.tsv',\n 'D:\\\\Bioinformatics\\\\Sameek-Sen-Lab\\\\Aligned-Data\\\\S4\\\\abundance.tsv',\n 'D:\\\\Bioinformatics\\\\Sameek-Sen-Lab\\\\Aligned-Data\\\\S5\\\\abundance.tsv',\n 'D:\\\\Bioinformatics\\\\Sameek-Sen-Lab\\\\Aligned-Data\\\\S6\\\\abundance.tsv',\n 'D:\\\\Bioinformatics\\\\Sameek-Sen-Lab\\\\Aligned-Data\\\\S7\\\\abundance.tsv',\n 'D:\\\\Bioinformatics\\\\Sameek-Sen-Lab\\\\Aligned-Data\\\\S8\\\\abundance.tsv']"
     },
     "execution_count": 4,
     "metadata": {},
     "output_type": "execute_result"
    }
   ],
   "source": [
    "# Generate an array of full paths to 'abundance.tsv' produced by kallisto (Required for tximport)\n",
    "abundance_path_arr = ['D:\\Bioinformatics\\Sameek-Sen-Lab\\Aligned-Data' + '\\\\' + path + '\\\\abundance.tsv' for path in os.listdir(aligned_data_path)]\n",
    "abundance_path_arr"
   ],
   "metadata": {
    "collapsed": false,
    "ExecuteTime": {
     "end_time": "2023-10-24T11:43:53.120665600Z",
     "start_time": "2023-10-24T11:43:53.104880600Z"
    }
   },
   "id": "36df35b43aea39c6"
  },
  {
   "cell_type": "code",
   "execution_count": 5,
   "outputs": [],
   "source": [
    "%R -i abundance_path_arr # Import in R environment"
   ],
   "metadata": {
    "collapsed": false,
    "ExecuteTime": {
     "end_time": "2023-10-24T11:43:53.141880900Z",
     "start_time": "2023-10-24T11:43:53.111591100Z"
    }
   },
   "id": "aa1e0a850f799df"
  },
  {
   "cell_type": "code",
   "execution_count": 16,
   "outputs": [
    {
     "data": {
      "text/plain": "        seqnames     start       end  width  strand            tx_id  \\\n1              1     11869     14409   2541       1  ENST00000456328   \n2              1     12010     13670   1661       1  ENST00000450305   \n3              1     14404     29570  15167       2  ENST00000488147   \n4              1     17369     17436     68       2  ENST00000619216   \n5              1     29554     31097   1544       1  ENST00000473358   \n...          ...       ...       ...    ...     ...              ...   \n216737       357  26549425  26549743    319       1  ENST00000420810   \n216738       357  26586642  26591601   4960       2  ENST00000456738   \n216739       357  26594851  26634652  39802       2  ENST00000435945   \n216740       357  26626520  26627159    640       2  ENST00000435741   \n216741       357  56855244  56855488    245       1  ENST00000431853   \n\n         gene_name  \n1          DDX11L1  \n2          DDX11L1  \n3           WASH7P  \n4        MIR6859-1  \n5        MIR1302-2  \n...            ...  \n216737     CYCSP49  \n216738  SLC25A15P1  \n216739     PARP4P1  \n216740     FAM58CP  \n216741     CTBP2P1  \n\n[216741 rows x 7 columns]",
      "text/html": "<div>\n<style scoped>\n    .dataframe tbody tr th:only-of-type {\n        vertical-align: middle;\n    }\n\n    .dataframe tbody tr th {\n        vertical-align: top;\n    }\n\n    .dataframe thead th {\n        text-align: right;\n    }\n</style>\n<table border=\"1\" class=\"dataframe\">\n  <thead>\n    <tr style=\"text-align: right;\">\n      <th></th>\n      <th>seqnames</th>\n      <th>start</th>\n      <th>end</th>\n      <th>width</th>\n      <th>strand</th>\n      <th>tx_id</th>\n      <th>gene_name</th>\n    </tr>\n  </thead>\n  <tbody>\n    <tr>\n      <th>1</th>\n      <td>1</td>\n      <td>11869</td>\n      <td>14409</td>\n      <td>2541</td>\n      <td>1</td>\n      <td>ENST00000456328</td>\n      <td>DDX11L1</td>\n    </tr>\n    <tr>\n      <th>2</th>\n      <td>1</td>\n      <td>12010</td>\n      <td>13670</td>\n      <td>1661</td>\n      <td>1</td>\n      <td>ENST00000450305</td>\n      <td>DDX11L1</td>\n    </tr>\n    <tr>\n      <th>3</th>\n      <td>1</td>\n      <td>14404</td>\n      <td>29570</td>\n      <td>15167</td>\n      <td>2</td>\n      <td>ENST00000488147</td>\n      <td>WASH7P</td>\n    </tr>\n    <tr>\n      <th>4</th>\n      <td>1</td>\n      <td>17369</td>\n      <td>17436</td>\n      <td>68</td>\n      <td>2</td>\n      <td>ENST00000619216</td>\n      <td>MIR6859-1</td>\n    </tr>\n    <tr>\n      <th>5</th>\n      <td>1</td>\n      <td>29554</td>\n      <td>31097</td>\n      <td>1544</td>\n      <td>1</td>\n      <td>ENST00000473358</td>\n      <td>MIR1302-2</td>\n    </tr>\n    <tr>\n      <th>...</th>\n      <td>...</td>\n      <td>...</td>\n      <td>...</td>\n      <td>...</td>\n      <td>...</td>\n      <td>...</td>\n      <td>...</td>\n    </tr>\n    <tr>\n      <th>216737</th>\n      <td>357</td>\n      <td>26549425</td>\n      <td>26549743</td>\n      <td>319</td>\n      <td>1</td>\n      <td>ENST00000420810</td>\n      <td>CYCSP49</td>\n    </tr>\n    <tr>\n      <th>216738</th>\n      <td>357</td>\n      <td>26586642</td>\n      <td>26591601</td>\n      <td>4960</td>\n      <td>2</td>\n      <td>ENST00000456738</td>\n      <td>SLC25A15P1</td>\n    </tr>\n    <tr>\n      <th>216739</th>\n      <td>357</td>\n      <td>26594851</td>\n      <td>26634652</td>\n      <td>39802</td>\n      <td>2</td>\n      <td>ENST00000435945</td>\n      <td>PARP4P1</td>\n    </tr>\n    <tr>\n      <th>216740</th>\n      <td>357</td>\n      <td>26626520</td>\n      <td>26627159</td>\n      <td>640</td>\n      <td>2</td>\n      <td>ENST00000435741</td>\n      <td>FAM58CP</td>\n    </tr>\n    <tr>\n      <th>216741</th>\n      <td>357</td>\n      <td>56855244</td>\n      <td>56855488</td>\n      <td>245</td>\n      <td>1</td>\n      <td>ENST00000431853</td>\n      <td>CTBP2P1</td>\n    </tr>\n  </tbody>\n</table>\n<p>216741 rows × 7 columns</p>\n</div>"
     },
     "execution_count": 16,
     "metadata": {},
     "output_type": "execute_result"
    }
   ],
   "source": [
    "# Retrieve matching transcript IDs and gene names from ENSEMBLE Database\n",
    "%R transcript_gene_annotation_gr <- ensembldb::transcripts(EnsDb.Hsapiens.v86, columns = c('tx_id', 'gene_name')) # gr = GRanges (Genomic Ranges)\n",
    "%R transcript_gene_annotation_tibble <- tibble::as_tibble(transcript_gene_annotation_gr) # convert them to a tibble for easier manipulation"
   ],
   "metadata": {
    "collapsed": false,
    "ExecuteTime": {
     "end_time": "2023-10-24T11:47:24.531005700Z",
     "start_time": "2023-10-24T11:47:21.131418300Z"
    }
   },
   "id": "4808147c18c442ed"
  },
  {
   "cell_type": "code",
   "execution_count": 17,
   "outputs": [
    {
     "data": {
      "text/plain": "   seqnames  start    end  width  strand            tx_id gene_name\n1         1  11869  14409   2541       1  ENST00000456328   DDX11L1\n2         1  12010  13670   1661       1  ENST00000450305   DDX11L1",
      "text/html": "<div>\n<style scoped>\n    .dataframe tbody tr th:only-of-type {\n        vertical-align: middle;\n    }\n\n    .dataframe tbody tr th {\n        vertical-align: top;\n    }\n\n    .dataframe thead th {\n        text-align: right;\n    }\n</style>\n<table border=\"1\" class=\"dataframe\">\n  <thead>\n    <tr style=\"text-align: right;\">\n      <th></th>\n      <th>seqnames</th>\n      <th>start</th>\n      <th>end</th>\n      <th>width</th>\n      <th>strand</th>\n      <th>tx_id</th>\n      <th>gene_name</th>\n    </tr>\n  </thead>\n  <tbody>\n    <tr>\n      <th>1</th>\n      <td>1</td>\n      <td>11869</td>\n      <td>14409</td>\n      <td>2541</td>\n      <td>1</td>\n      <td>ENST00000456328</td>\n      <td>DDX11L1</td>\n    </tr>\n    <tr>\n      <th>2</th>\n      <td>1</td>\n      <td>12010</td>\n      <td>13670</td>\n      <td>1661</td>\n      <td>1</td>\n      <td>ENST00000450305</td>\n      <td>DDX11L1</td>\n    </tr>\n  </tbody>\n</table>\n</div>"
     },
     "execution_count": 17,
     "metadata": {},
     "output_type": "execute_result"
    }
   ],
   "source": [
    "%R head(transcript_gene_annotation_tibble, 2)"
   ],
   "metadata": {
    "collapsed": false,
    "ExecuteTime": {
     "end_time": "2023-10-24T11:47:26.200958700Z",
     "start_time": "2023-10-24T11:47:26.151155400Z"
    }
   },
   "id": "b1a712571db0d01a"
  },
  {
   "cell_type": "code",
   "execution_count": 18,
   "outputs": [
    {
     "data": {
      "text/plain": "              target_id   gene_name\n1       ENST00000456328     DDX11L1\n2       ENST00000450305     DDX11L1\n3       ENST00000488147      WASH7P\n4       ENST00000619216   MIR6859-1\n5       ENST00000473358   MIR1302-2\n...                 ...         ...\n216737  ENST00000420810     CYCSP49\n216738  ENST00000456738  SLC25A15P1\n216739  ENST00000435945     PARP4P1\n216740  ENST00000435741     FAM58CP\n216741  ENST00000431853     CTBP2P1\n\n[216741 rows x 2 columns]",
      "text/html": "<div>\n<style scoped>\n    .dataframe tbody tr th:only-of-type {\n        vertical-align: middle;\n    }\n\n    .dataframe tbody tr th {\n        vertical-align: top;\n    }\n\n    .dataframe thead th {\n        text-align: right;\n    }\n</style>\n<table border=\"1\" class=\"dataframe\">\n  <thead>\n    <tr style=\"text-align: right;\">\n      <th></th>\n      <th>target_id</th>\n      <th>gene_name</th>\n    </tr>\n  </thead>\n  <tbody>\n    <tr>\n      <th>1</th>\n      <td>ENST00000456328</td>\n      <td>DDX11L1</td>\n    </tr>\n    <tr>\n      <th>2</th>\n      <td>ENST00000450305</td>\n      <td>DDX11L1</td>\n    </tr>\n    <tr>\n      <th>3</th>\n      <td>ENST00000488147</td>\n      <td>WASH7P</td>\n    </tr>\n    <tr>\n      <th>4</th>\n      <td>ENST00000619216</td>\n      <td>MIR6859-1</td>\n    </tr>\n    <tr>\n      <th>5</th>\n      <td>ENST00000473358</td>\n      <td>MIR1302-2</td>\n    </tr>\n    <tr>\n      <th>...</th>\n      <td>...</td>\n      <td>...</td>\n    </tr>\n    <tr>\n      <th>216737</th>\n      <td>ENST00000420810</td>\n      <td>CYCSP49</td>\n    </tr>\n    <tr>\n      <th>216738</th>\n      <td>ENST00000456738</td>\n      <td>SLC25A15P1</td>\n    </tr>\n    <tr>\n      <th>216739</th>\n      <td>ENST00000435945</td>\n      <td>PARP4P1</td>\n    </tr>\n    <tr>\n      <th>216740</th>\n      <td>ENST00000435741</td>\n      <td>FAM58CP</td>\n    </tr>\n    <tr>\n      <th>216741</th>\n      <td>ENST00000431853</td>\n      <td>CTBP2P1</td>\n    </tr>\n  </tbody>\n</table>\n<p>216741 rows × 2 columns</p>\n</div>"
     },
     "execution_count": 18,
     "metadata": {},
     "output_type": "execute_result"
    }
   ],
   "source": [
    "# Select only the 'tx_id' and 'gene_name' columns from `transcript_gene_annotation_tibble`\n",
    "# Rename 'tx_id' to 'target_id' for `tximport()` function\n",
    "%R transcript_gene_annotation_tibble <- transcript_gene_annotation_tibble %>% dplyr::select('tx_id', 'gene_name') %>% dplyr::rename('target_id' = 'tx_id')"
   ],
   "metadata": {
    "collapsed": false,
    "ExecuteTime": {
     "end_time": "2023-10-24T11:47:29.713544700Z",
     "start_time": "2023-10-24T11:47:28.181032400Z"
    }
   },
   "id": "e444e54f6f07c08c"
  },
  {
   "cell_type": "code",
   "execution_count": 19,
   "outputs": [
    {
     "data": {
      "text/plain": "         target_id gene_name\n1  ENST00000456328   DDX11L1\n2  ENST00000450305   DDX11L1",
      "text/html": "<div>\n<style scoped>\n    .dataframe tbody tr th:only-of-type {\n        vertical-align: middle;\n    }\n\n    .dataframe tbody tr th {\n        vertical-align: top;\n    }\n\n    .dataframe thead th {\n        text-align: right;\n    }\n</style>\n<table border=\"1\" class=\"dataframe\">\n  <thead>\n    <tr style=\"text-align: right;\">\n      <th></th>\n      <th>target_id</th>\n      <th>gene_name</th>\n    </tr>\n  </thead>\n  <tbody>\n    <tr>\n      <th>1</th>\n      <td>ENST00000456328</td>\n      <td>DDX11L1</td>\n    </tr>\n    <tr>\n      <th>2</th>\n      <td>ENST00000450305</td>\n      <td>DDX11L1</td>\n    </tr>\n  </tbody>\n</table>\n</div>"
     },
     "execution_count": 19,
     "metadata": {},
     "output_type": "execute_result"
    }
   ],
   "source": [
    "%R head(transcript_gene_annotation_tibble, 2)"
   ],
   "metadata": {
    "collapsed": false,
    "ExecuteTime": {
     "end_time": "2023-10-24T11:47:31.650124100Z",
     "start_time": "2023-10-24T11:47:31.593827200Z"
    }
   },
   "id": "eb89aa1e7a33926b"
  },
  {
   "cell_type": "code",
   "execution_count": 20,
   "outputs": [
    {
     "name": "stderr",
     "output_type": "stream",
     "text": [
      "R[write to console]: Note: importing `abundance.h5` is typically faster than `abundance.tsv`\n",
      "\n",
      "R[write to console]: reading in files with read_tsv\n",
      "\n",
      "R[write to console]: 1 \n",
      "R[write to console]: 2 \n",
      "R[write to console]: 3 \n",
      "R[write to console]: 4 \n",
      "R[write to console]: 5 \n",
      "R[write to console]: 6 \n",
      "R[write to console]: 7 \n",
      "R[write to console]: 8 \n",
      "R[write to console]: 9 \n",
      "R[write to console]: 10 \n",
      "R[write to console]: 11 \n",
      "R[write to console]: 12 \n",
      "R[write to console]: 13 \n",
      "R[write to console]: 14 \n",
      "R[write to console]: 15 \n",
      "R[write to console]: 16 \n",
      "R[write to console]: 17 \n",
      "R[write to console]: \n",
      "\n",
      "R[write to console]: transcripts missing from tx2gene: 35624\n",
      "\n",
      "R[write to console]: summarizing abundance\n",
      "\n",
      "R[write to console]: summarizing counts\n",
      "\n",
      "R[write to console]: summarizing length\n",
      "\n"
     ]
    },
    {
     "data": {
      "text/plain": "o{'abundance': [[0.00000000e+00 0.00000000e+00 0.00000000e+00 ... 0.00000000e+00\n  0.00000000e+00 0.00000000e+00]\n [0.00000000e+00 0.00000000e+00 3.89718000e-02 ... 0.00000000e+00\n  6.23936000e-02 0.00000000e+00]\n [0.00000000e+00 0.00000000e+00 0.00000000e+00 ... 0.00000000e+00\n  0.00000000e+00 0.00000000e+00]\n ...\n [0.00000000e+00 0.00000000e+00 0.00000000e+00 ... 0.00000000e+00\n  0.00000000e+00 0.00000000e+00]\n [1.53679885e+01 1.55319530e+01 1.39153490e+01 ... 2.03605444e+01\n  1.43075420e+01 1.32927870e+01]\n [6.06024700e+01 8.45473381e+01 6.78193500e+01 ... 1.12809243e+02\n  8.31705300e+01 8.50692200e+01]], 'counts': [[0.00000000e+00 0.00000000e+00 0.00000000e+00 ... 0.00000000e+00\n  0.00000000e+00 0.00000000e+00]\n [0.00000000e+00 0.00000000e+00 8.84726953e-01 ... 0.00000000e+00\n  1.74798372e+00 0.00000000e+00]\n [0.00000000e+00 0.00000000e+00 0.00000000e+00 ... 0.00000000e+00\n  0.00000000e+00 0.00000000e+00]\n ...\n [0.00000000e+00 0.00000000e+00 0.00000000e+00 ... 0.00000000e+00\n  0.00000000e+00 0.00000000e+00]\n [7.16992617e+02 5.96263031e+02 5.32860878e+02 ... 9.04951518e+02\n  6.76119262e+02 5.73372405e+02]\n [1.25021640e+03 1.43518856e+03 1.14834019e+03 ... 2.21706191e+03\n  1.73790070e+03 1.62252128e+03]], 'length': [[  12.67827647   12.67827647   12.67827647 ...   12.67827647\n    12.67827647   12.67827647]\n [1786.15435745 1786.15435745 1987.61       ... 1786.15435745\n  1981.9        1786.15435745]\n [6615.09166229 6615.09166229 6615.09166229 ... 6615.09166229\n  6615.09166229 6615.09166229]\n ...\n [  13.58158824   13.58158824   13.58158824 ...   13.58158824\n    13.58158824   13.58158824]\n [2865.12923514 2670.50398877 3117.26977564 ... 2237.41071358\n  2649.58574798 2970.61484168]\n [1365.7648697  1202.07933761 1263.23093808 ... 1251.79469509\n  1297.23348452 1334.13576159]], 'countsFromAbundance': [1] \"lengthScaledTPM\"\n, }"
     },
     "execution_count": 20,
     "metadata": {},
     "output_type": "execute_result"
    }
   ],
   "source": [
    "# Import and summarize transcript-level abundance estimates to gene-level counts (TPM) using 'tximport()' function\n",
    "# `abundance_path_arr`: An array containing the paths to 'abundance.tsv' files generated by Kallisto\n",
    "# `type`: The type of software used for abundance estimation, in this case, 'kallisto'\n",
    "# `tx2gene`: A Dataframe or Similar Object that maps transcript IDs ('tx_id') to gene names ('gene_name')\n",
    "# `txOut`: Whether to output transcript-level estimates; set to FALSE to only output gene-level estimates\n",
    "# `countsFromAbundance`: Method used for deriving counts; 'lengthScaledTPM' scales TPMs by average transcript length\n",
    "# `ignoreTxVersion`: Whether to ignore transcript version (ENST00000380152.1, ENST00000380152.2 etc.) when importing; set to TRUE to ignore\n",
    "%R gene_level_count_list <- tximport(abundance_path_arr, type = 'kallisto', tx2gene = transcript_gene_annotation_tibble, txOut = FALSE, countsFromAbundance = 'lengthScaledTPM', ignoreTxVersion = TRUE)  # list object"
   ],
   "metadata": {
    "collapsed": false,
    "ExecuteTime": {
     "end_time": "2023-10-24T11:47:39.771015300Z",
     "start_time": "2023-10-24T11:47:32.541854100Z"
    }
   },
   "id": "47acda4c189113be"
  },
  {
   "cell_type": "code",
   "execution_count": 21,
   "outputs": [
    {
     "name": "stdout",
     "output_type": "stream",
     "text": [
      "[1] \"abundance\"           \"counts\"              \"length\"             \n",
      "[4] \"countsFromAbundance\"\n"
     ]
    },
    {
     "data": {
      "text/plain": "<rpy2.robjects.vectors.StrVector object at 0x000001BA465BC950> [16]\nR classes: ('character',)\n['abundance', 'counts', 'length', 'countsFro...]",
      "text/html": "\n        <span>StrVector with 4 elements.</span>\n        <table>\n        <tbody>\n          <tr>\n          \n            <td>\n            'abundance'\n            </td>\n          \n            <td>\n            'counts'\n            </td>\n          \n            <td>\n            'length'\n            </td>\n          \n            <td>\n            'countsFro...\n            </td>\n          \n          </tr>\n        </tbody>\n        </table>\n        "
     },
     "execution_count": 21,
     "metadata": {},
     "output_type": "execute_result"
    }
   ],
   "source": [
    "# gene_level_counts$abundance: Holds TPM values for normalized transcript abundance.\n",
    "# gene_level_counts$counts: Contains raw or adjusted read counts for each gene, essential for DGE.\n",
    "# gene_level_counts$length: Stores effective lengths of each transcript.\n",
    "# gene_level_counts$countsFromAbundance: Specifies method ('lengthScaledTPM', in this case) for deriving counts from abundance.\n",
    "%R print(names(gene_level_count_list))"
   ],
   "metadata": {
    "collapsed": false,
    "ExecuteTime": {
     "end_time": "2023-10-24T11:47:40.623229800Z",
     "start_time": "2023-10-24T11:47:40.591680400Z"
    }
   },
   "id": "85df6a352d936d4f"
  },
  {
   "cell_type": "code",
   "execution_count": 22,
   "outputs": [],
   "source": [
    "# Extract the raw gene counts and TPM counts from gene_level_count_list to a dataframe\n",
    "%R raw_count_df <- data.frame(gene_level_count_list$counts)\n",
    "%R tpm_count_df <- data.frame(gene_level_count_list$abundance)\n",
    "\n",
    "# Export to python environment\n",
    "%R -o raw_count_df\n",
    "%R -o tpm_count_df\n",
    "\n",
    "# Type annotation\n",
    "raw_count_df: DataFrame\n",
    "tpm_count_df: DataFrame"
   ],
   "metadata": {
    "collapsed": false,
    "ExecuteTime": {
     "end_time": "2023-10-24T11:47:41.890150100Z",
     "start_time": "2023-10-24T11:47:41.440037800Z"
    }
   },
   "id": "87d780e859a7875e"
  },
  {
   "cell_type": "code",
   "execution_count": 23,
   "outputs": [
    {
     "data": {
      "text/plain": "                X1        X2        X3        X4        X5        X6  \\\n5S_rRNA   0.000000  0.000000  0.000000  0.000000  0.000000  0.000000   \nA1BG      0.000000  0.000000  0.884727  1.731269  0.878589  0.000000   \nA1CF      0.000000  0.000000  0.000000  0.000000  0.000000  0.000000   \nA2M      10.610636  3.039046  1.498629  3.016140  4.491151  5.921437   \nA2ML1     0.000000  0.000000  0.000000  0.000000  0.000000  0.000000   \n\n               X7        X8         X9           X10       X11        X12  \\\n5S_rRNA  0.000000  0.000000   0.000000      0.000000  0.000000   0.000000   \nA1BG     0.880750  0.000000   0.000000   2511.164944  0.000000   0.000000   \nA1CF     0.738325  0.731650  10.333252     22.455639  0.000000   0.000000   \nA2M      4.464646  1.483068   3.007374  22464.830996  3.073017  10.520021   \nA2ML1    0.000000  0.000000   0.000000     92.122733  0.000000   0.000000   \n\n              X13       X14       X15       X16  X17  \n5S_rRNA  0.000000  0.000000   0.00000  0.000000  0.0  \nA1BG     0.000000  1.766093   0.00000  1.747984  0.0  \nA1CF     0.000000  1.446909   0.00000  0.000000  0.0  \nA2M      4.522441  6.090698  12.17956  0.000000  0.0  \nA2ML1    0.000000  0.000000   0.00000  0.000000  0.0  ",
      "text/html": "<div>\n<style scoped>\n    .dataframe tbody tr th:only-of-type {\n        vertical-align: middle;\n    }\n\n    .dataframe tbody tr th {\n        vertical-align: top;\n    }\n\n    .dataframe thead th {\n        text-align: right;\n    }\n</style>\n<table border=\"1\" class=\"dataframe\">\n  <thead>\n    <tr style=\"text-align: right;\">\n      <th></th>\n      <th>X1</th>\n      <th>X2</th>\n      <th>X3</th>\n      <th>X4</th>\n      <th>X5</th>\n      <th>X6</th>\n      <th>X7</th>\n      <th>X8</th>\n      <th>X9</th>\n      <th>X10</th>\n      <th>X11</th>\n      <th>X12</th>\n      <th>X13</th>\n      <th>X14</th>\n      <th>X15</th>\n      <th>X16</th>\n      <th>X17</th>\n    </tr>\n  </thead>\n  <tbody>\n    <tr>\n      <th>5S_rRNA</th>\n      <td>0.000000</td>\n      <td>0.000000</td>\n      <td>0.000000</td>\n      <td>0.000000</td>\n      <td>0.000000</td>\n      <td>0.000000</td>\n      <td>0.000000</td>\n      <td>0.000000</td>\n      <td>0.000000</td>\n      <td>0.000000</td>\n      <td>0.000000</td>\n      <td>0.000000</td>\n      <td>0.000000</td>\n      <td>0.000000</td>\n      <td>0.00000</td>\n      <td>0.000000</td>\n      <td>0.0</td>\n    </tr>\n    <tr>\n      <th>A1BG</th>\n      <td>0.000000</td>\n      <td>0.000000</td>\n      <td>0.884727</td>\n      <td>1.731269</td>\n      <td>0.878589</td>\n      <td>0.000000</td>\n      <td>0.880750</td>\n      <td>0.000000</td>\n      <td>0.000000</td>\n      <td>2511.164944</td>\n      <td>0.000000</td>\n      <td>0.000000</td>\n      <td>0.000000</td>\n      <td>1.766093</td>\n      <td>0.00000</td>\n      <td>1.747984</td>\n      <td>0.0</td>\n    </tr>\n    <tr>\n      <th>A1CF</th>\n      <td>0.000000</td>\n      <td>0.000000</td>\n      <td>0.000000</td>\n      <td>0.000000</td>\n      <td>0.000000</td>\n      <td>0.000000</td>\n      <td>0.738325</td>\n      <td>0.731650</td>\n      <td>10.333252</td>\n      <td>22.455639</td>\n      <td>0.000000</td>\n      <td>0.000000</td>\n      <td>0.000000</td>\n      <td>1.446909</td>\n      <td>0.00000</td>\n      <td>0.000000</td>\n      <td>0.0</td>\n    </tr>\n    <tr>\n      <th>A2M</th>\n      <td>10.610636</td>\n      <td>3.039046</td>\n      <td>1.498629</td>\n      <td>3.016140</td>\n      <td>4.491151</td>\n      <td>5.921437</td>\n      <td>4.464646</td>\n      <td>1.483068</td>\n      <td>3.007374</td>\n      <td>22464.830996</td>\n      <td>3.073017</td>\n      <td>10.520021</td>\n      <td>4.522441</td>\n      <td>6.090698</td>\n      <td>12.17956</td>\n      <td>0.000000</td>\n      <td>0.0</td>\n    </tr>\n    <tr>\n      <th>A2ML1</th>\n      <td>0.000000</td>\n      <td>0.000000</td>\n      <td>0.000000</td>\n      <td>0.000000</td>\n      <td>0.000000</td>\n      <td>0.000000</td>\n      <td>0.000000</td>\n      <td>0.000000</td>\n      <td>0.000000</td>\n      <td>92.122733</td>\n      <td>0.000000</td>\n      <td>0.000000</td>\n      <td>0.000000</td>\n      <td>0.000000</td>\n      <td>0.00000</td>\n      <td>0.000000</td>\n      <td>0.0</td>\n    </tr>\n  </tbody>\n</table>\n</div>"
     },
     "execution_count": 23,
     "metadata": {},
     "output_type": "execute_result"
    }
   ],
   "source": [
    "# Take a peek at the count matrix\n",
    "raw_count_df.head(5)"
   ],
   "metadata": {
    "collapsed": false,
    "ExecuteTime": {
     "end_time": "2023-10-24T11:47:42.810328400Z",
     "start_time": "2023-10-24T11:47:42.777844Z"
    }
   },
   "id": "13aa87c322f5b838"
  },
  {
   "cell_type": "code",
   "execution_count": 24,
   "outputs": [],
   "source": [
    "# Rename Column Names\n",
    "raw_count_df.columns = raw_count_df.columns.str.replace('X', 'S')\n",
    "tpm_count_df.columns = tpm_count_df.columns.str.replace('X', 'S')"
   ],
   "metadata": {
    "collapsed": false,
    "ExecuteTime": {
     "end_time": "2023-10-24T11:47:43.930936300Z",
     "start_time": "2023-10-24T11:47:43.877829200Z"
    }
   },
   "id": "42fbb47639bd157"
  },
  {
   "cell_type": "code",
   "execution_count": 25,
   "outputs": [
    {
     "data": {
      "text/plain": "                S1        S2        S3        S4        S5        S6  \\\n5S_rRNA   0.000000  0.000000  0.000000  0.000000  0.000000  0.000000   \nA1BG      0.000000  0.000000  0.884727  1.731269  0.878589  0.000000   \nA1CF      0.000000  0.000000  0.000000  0.000000  0.000000  0.000000   \nA2M      10.610636  3.039046  1.498629  3.016140  4.491151  5.921437   \nA2ML1     0.000000  0.000000  0.000000  0.000000  0.000000  0.000000   \n\n               S7        S8         S9           S10       S11        S12  \\\n5S_rRNA  0.000000  0.000000   0.000000      0.000000  0.000000   0.000000   \nA1BG     0.880750  0.000000   0.000000   2511.164944  0.000000   0.000000   \nA1CF     0.738325  0.731650  10.333252     22.455639  0.000000   0.000000   \nA2M      4.464646  1.483068   3.007374  22464.830996  3.073017  10.520021   \nA2ML1    0.000000  0.000000   0.000000     92.122733  0.000000   0.000000   \n\n              S13       S14       S15       S16  S17  \n5S_rRNA  0.000000  0.000000   0.00000  0.000000  0.0  \nA1BG     0.000000  1.766093   0.00000  1.747984  0.0  \nA1CF     0.000000  1.446909   0.00000  0.000000  0.0  \nA2M      4.522441  6.090698  12.17956  0.000000  0.0  \nA2ML1    0.000000  0.000000   0.00000  0.000000  0.0  ",
      "text/html": "<div>\n<style scoped>\n    .dataframe tbody tr th:only-of-type {\n        vertical-align: middle;\n    }\n\n    .dataframe tbody tr th {\n        vertical-align: top;\n    }\n\n    .dataframe thead th {\n        text-align: right;\n    }\n</style>\n<table border=\"1\" class=\"dataframe\">\n  <thead>\n    <tr style=\"text-align: right;\">\n      <th></th>\n      <th>S1</th>\n      <th>S2</th>\n      <th>S3</th>\n      <th>S4</th>\n      <th>S5</th>\n      <th>S6</th>\n      <th>S7</th>\n      <th>S8</th>\n      <th>S9</th>\n      <th>S10</th>\n      <th>S11</th>\n      <th>S12</th>\n      <th>S13</th>\n      <th>S14</th>\n      <th>S15</th>\n      <th>S16</th>\n      <th>S17</th>\n    </tr>\n  </thead>\n  <tbody>\n    <tr>\n      <th>5S_rRNA</th>\n      <td>0.000000</td>\n      <td>0.000000</td>\n      <td>0.000000</td>\n      <td>0.000000</td>\n      <td>0.000000</td>\n      <td>0.000000</td>\n      <td>0.000000</td>\n      <td>0.000000</td>\n      <td>0.000000</td>\n      <td>0.000000</td>\n      <td>0.000000</td>\n      <td>0.000000</td>\n      <td>0.000000</td>\n      <td>0.000000</td>\n      <td>0.00000</td>\n      <td>0.000000</td>\n      <td>0.0</td>\n    </tr>\n    <tr>\n      <th>A1BG</th>\n      <td>0.000000</td>\n      <td>0.000000</td>\n      <td>0.884727</td>\n      <td>1.731269</td>\n      <td>0.878589</td>\n      <td>0.000000</td>\n      <td>0.880750</td>\n      <td>0.000000</td>\n      <td>0.000000</td>\n      <td>2511.164944</td>\n      <td>0.000000</td>\n      <td>0.000000</td>\n      <td>0.000000</td>\n      <td>1.766093</td>\n      <td>0.00000</td>\n      <td>1.747984</td>\n      <td>0.0</td>\n    </tr>\n    <tr>\n      <th>A1CF</th>\n      <td>0.000000</td>\n      <td>0.000000</td>\n      <td>0.000000</td>\n      <td>0.000000</td>\n      <td>0.000000</td>\n      <td>0.000000</td>\n      <td>0.738325</td>\n      <td>0.731650</td>\n      <td>10.333252</td>\n      <td>22.455639</td>\n      <td>0.000000</td>\n      <td>0.000000</td>\n      <td>0.000000</td>\n      <td>1.446909</td>\n      <td>0.00000</td>\n      <td>0.000000</td>\n      <td>0.0</td>\n    </tr>\n    <tr>\n      <th>A2M</th>\n      <td>10.610636</td>\n      <td>3.039046</td>\n      <td>1.498629</td>\n      <td>3.016140</td>\n      <td>4.491151</td>\n      <td>5.921437</td>\n      <td>4.464646</td>\n      <td>1.483068</td>\n      <td>3.007374</td>\n      <td>22464.830996</td>\n      <td>3.073017</td>\n      <td>10.520021</td>\n      <td>4.522441</td>\n      <td>6.090698</td>\n      <td>12.17956</td>\n      <td>0.000000</td>\n      <td>0.0</td>\n    </tr>\n    <tr>\n      <th>A2ML1</th>\n      <td>0.000000</td>\n      <td>0.000000</td>\n      <td>0.000000</td>\n      <td>0.000000</td>\n      <td>0.000000</td>\n      <td>0.000000</td>\n      <td>0.000000</td>\n      <td>0.000000</td>\n      <td>0.000000</td>\n      <td>92.122733</td>\n      <td>0.000000</td>\n      <td>0.000000</td>\n      <td>0.000000</td>\n      <td>0.000000</td>\n      <td>0.00000</td>\n      <td>0.000000</td>\n      <td>0.0</td>\n    </tr>\n  </tbody>\n</table>\n</div>"
     },
     "execution_count": 25,
     "metadata": {},
     "output_type": "execute_result"
    }
   ],
   "source": [
    "raw_count_df.head(5)"
   ],
   "metadata": {
    "collapsed": false,
    "ExecuteTime": {
     "end_time": "2023-10-24T11:47:44.539985900Z",
     "start_time": "2023-10-24T11:47:44.492565100Z"
    }
   },
   "id": "ca6f08443bf118a5"
  },
  {
   "cell_type": "code",
   "execution_count": 26,
   "outputs": [],
   "source": [
    "# Save as CSV files\n",
    "raw_count_df.to_csv(path_or_buf=processed_data_path + 'raw_count_matrix.csv', index=True, index_label='Gene_Names')\n",
    "tpm_count_df.to_csv(path_or_buf=processed_data_path + 'tpm_count_matrix.csv', index=True, index_label='Gene_Names')"
   ],
   "metadata": {
    "collapsed": false,
    "ExecuteTime": {
     "end_time": "2023-10-24T11:47:46.096804Z",
     "start_time": "2023-10-24T11:47:45.361490300Z"
    }
   },
   "id": "7997489c8eba64b0"
  },
  {
   "cell_type": "code",
   "execution_count": null,
   "outputs": [],
   "source": [],
   "metadata": {
    "collapsed": false,
    "ExecuteTime": {
     "start_time": "2023-10-24T11:43:58.011390500Z"
    }
   },
   "id": "3ddf3f619594d02f"
  }
 ],
 "metadata": {
  "kernelspec": {
   "display_name": "Python 3",
   "language": "python",
   "name": "python3"
  },
  "language_info": {
   "codemirror_mode": {
    "name": "ipython",
    "version": 2
   },
   "file_extension": ".py",
   "mimetype": "text/x-python",
   "name": "python",
   "nbconvert_exporter": "python",
   "pygments_lexer": "ipython2",
   "version": "2.7.6"
  }
 },
 "nbformat": 4,
 "nbformat_minor": 5
}
